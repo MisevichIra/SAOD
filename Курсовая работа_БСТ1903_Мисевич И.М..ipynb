{
 "cells": [
  {
   "cell_type": "markdown",
   "id": "aerial-thursday",
   "metadata": {},
   "source": [
    "# Курсовая работа по дисциплине СиАОД №1\n",
    "\n",
    "## Выполнила студентка группы БСТ1903 Мисевич И.М.\n",
    "\n",
    "\n",
    "### Задание 1. «Треугольник с максимальным периметром»\n",
    "Массив A состоит из целых положительных чисел - длин отрезков. Составьте из трех отрезков такой треугольник, чтобы его периметр был максимально возможным. Если невозможно\n",
    "составить треугольник с положительной площадью - функция возвращает 0."
   ]
  },
  {
   "cell_type": "code",
   "execution_count": 34,
   "id": "accredited-pasta",
   "metadata": {},
   "outputs": [
    {
     "name": "stdout",
     "output_type": "stream",
     "text": [
      "Введите длину массива 4\n",
      "3\n",
      "2\n",
      "3\n",
      "4\n",
      "[4, 3, 3, 2]\n",
      "Периметр =  10\n"
     ]
    }
   ],
   "source": [
    "def Perimetr (a, b, c):\n",
    "    if (a+b)>c and (a+c)>b and (b+c)>a:\n",
    "        return int(a+b+c)\n",
    "    else:\n",
    "        return 0\n",
    "#\n",
    "length=int(input('Введите длину массива '))\n",
    "mas=[]\n",
    "for i in range(length): \n",
    "    mas.append(int(input())) ##добавление целого цикла\n",
    "mas=sorted(mas, reverse=True) ##сортировка по убыванию\n",
    "print(mas)\n",
    "for i in range(len(mas)-2):\n",
    "    if Perimetr(mas[i], mas[i+1], mas[i+2])>0:\n",
    "        print(\"Периметр = \", Perimetr(mas[i], mas[i+1], mas[i+2]))\n",
    "        break"
   ]
  },
  {
   "cell_type": "markdown",
   "id": "favorite-advantage",
   "metadata": {},
   "source": [
    "### Задание 2. «Максимальное число»\n",
    "Дан массив неотрицательных целых чисел nums. Расположите их в таком порядке, чтобы\n",
    "вместе они образовали максимально возможное число."
   ]
  },
  {
   "cell_type": "code",
   "execution_count": 38,
   "id": "bibliographic-piece",
   "metadata": {},
   "outputs": [
    {
     "name": "stdout",
     "output_type": "stream",
     "text": [
      " 9 5 34 3 30\n"
     ]
    }
   ],
   "source": [
    "def check(a,b):\n",
    "    one=str(a)+str(b)\n",
    "    two=str(b)+str(a)\n",
    "    if int(one)>int(two):\n",
    "        return True\n",
    "    else:\n",
    "        return False\n",
    "    \n",
    "def nums(massline):\n",
    "    length=len(massline)\n",
    "    l=length\n",
    "    while l>0:\n",
    "        for i in range(length-l):\n",
    "            j=i\n",
    "            while j>=0 and check(massline[j+l], massline[j]):\n",
    "                massline[j], massline[j+l]=massline[j+l], massline[j]\n",
    "                j=j-l\n",
    "        l=int(l/2)\n",
    "    strr=\"\"\n",
    "    for i in range(len(massline)):\n",
    "        strr=strr+\" \"+str(massline[i])\n",
    "    return strr\n",
    "\n",
    "mas1= [3,30,34,5,9]\n",
    "\n",
    "print(nums(mas1))\n"
   ]
  },
  {
   "cell_type": "markdown",
   "id": "warming-million",
   "metadata": {},
   "source": [
    "### Задание 3. «Сортировка диагоналей в матрице»\n",
    "Дана матрица mat размером m * n, значения - целочисленные. Напишите функцию, сортирующую каждую диагональ матрицы по возрастанию и возвращающую получившуюся матрицу"
   ]
  },
  {
   "cell_type": "code",
   "execution_count": 8,
   "id": "satellite-syracuse",
   "metadata": {},
   "outputs": [
    {
     "name": "stdout",
     "output_type": "stream",
     "text": [
      "Введите m и n:4 4\n",
      "[[19 13  7  7]\n",
      " [ 1 20 20  1]\n",
      " [12 11  7 10]\n",
      " [19  2 13 10]]\n",
      "\n",
      "\n",
      "\n",
      "[[ 7 10  1  7]\n",
      " [ 1 10 13  7]\n",
      " [ 2 11 19 20]\n",
      " [19 12 13 20]]\n"
     ]
    },
    {
     "name": "stderr",
     "output_type": "stream",
     "text": [
      "<ipython-input-8-a8165d67f7f2>:7: DeprecationWarning: This function is deprecated. Please call randint(0, 20 + 1) instead\n",
      "  massiv = numpy.random.random_integers(0, 20, size=(m, n))\n"
     ]
    }
   ],
   "source": [
    "import numpy ##многомерные массивы\n",
    "def mat(n, m):\n",
    "    for i in range(n):\n",
    "        for j in range(m):\n",
    "            yield i, j ##1ое значение цикла\n",
    "m, n= map(int, input('Введите m и n: ').split(' ')) ##функция к каждому элементу объекта\n",
    "massiv = numpy.random.random_integers(0, 20, size=(m, n))\n",
    "print(massiv)\n",
    "for i, j in mat(len(massiv[0]), len(massiv)):\n",
    "    k=j\n",
    "    l=i\n",
    "    while k<len(massiv[0]) and l<len(massiv):\n",
    "        if massiv[i][j]>massiv[l][k]:\n",
    "            massiv[i][j], massiv[l][k]=massiv[l][k], massiv[i][j]\n",
    "        k=k+1\n",
    "        l=l+1\n",
    "            \n",
    "print(\"\\n\\n\") ##печать строк\n",
    "print(massiv)"
   ]
  },
  {
   "cell_type": "markdown",
   "id": "secret-envelope",
   "metadata": {},
   "source": [
    "### Задание 4. «Объединение отрезков»\n",
    "Дан массив отрезков intervals, в котором intervals[i] = [start_i, end_ i], некоторые\n",
    "отрезки могут пересекаться. Напишите функцию, которая объединяет все пересекающиеся отрезки в один и возвращает новый массив непересекающихся отрезков."
   ]
  },
  {
   "cell_type": "code",
   "execution_count": 7,
   "id": "unauthorized-march",
   "metadata": {},
   "outputs": [
    {
     "data": {
      "text/plain": [
       "[[1, 6], [8, 10], [15, 18]]"
      ]
     },
     "execution_count": 7,
     "metadata": {},
     "output_type": "execute_result"
    }
   ],
   "source": [
    "def intervals(interv):\n",
    "    interv.sort()\n",
    "    i=0\n",
    "    while i <len(interv)-1:\n",
    "        if interv[i][1]>=interv[i+1][0]:\n",
    "            a=interv.pop(0) ##удаляет и возвращает последний эл.\n",
    "            b=interv.pop(0)\n",
    "            interv.insert(0, [a[0],b[1]]) ##добавляет указанный элемент в список на указанную позицию\n",
    "        else:\n",
    "            i+=1            \n",
    "    return interv\n",
    "\n",
    "intervals( [[1,3],[2,6],[8,10],[15,18]])"
   ]
  },
  {
   "cell_type": "markdown",
   "id": "altered-southeast",
   "metadata": {},
   "source": [
    "### Задание 5. «Стопки монет»\n",
    "На столе стоят 3n стопок монет. Вы и ваши друзья Алиса и Боб забираете стопки монет по\n",
    "следующему алгоритму:\n",
    "1. Вы выбираете 3 стопки монет из оставшихся на столе.\n",
    "2. Алиса забирает себе стопку с максимальным количеством монет.\n",
    "3. Вы забираете одну из двух оставшихся стопок.\n",
    "4. Боб забирает последнюю стопку.\n",
    "5. Если еще остались стопки, то действия повторяются с первого шага.\n",
    "Дан массив целых положительных чисел piles. Напишите функцию, возвращающую максимальное число монет, которое вы можете получить."
   ]
  },
  {
   "cell_type": "code",
   "execution_count": 6,
   "id": "certain-married",
   "metadata": {},
   "outputs": [
    {
     "data": {
      "text/plain": [
       "9"
      ]
     },
     "execution_count": 6,
     "metadata": {},
     "output_type": "execute_result"
    }
   ],
   "source": [
    "def piles(arr):\n",
    "    arr.sort()\n",
    "    a=len(arr)//3\n",
    "    s=0\n",
    "    while a<len(arr):\n",
    "        s=s+arr[a]\n",
    "        a=a+2\n",
    "    return (s)\n",
    "\n",
    "piles (  [2,4,1,2,7,8])"
   ]
  },
  {
   "cell_type": "markdown",
   "id": "incorporate-coordinator",
   "metadata": {},
   "source": [
    "### Задание 6. «Шарики и стрелы»\n",
    "Некоторые сферические шарики распределены по двухмерному пространству. Для каждого\n",
    "шарика даны x-координаты начала и конца его горизонтального диаметра. Так как пространство\n",
    "двумерно, то y-координаты не имеют значения в данной задаче. Координата x_start всегда меньше\n",
    "x_end.\n",
    "Стрелу можно выстрелить строго вертикально (вдоль y-оси) из разных точек x-оси. Шарик\n",
    "с координатами x_start и x_end уничтожается стрелой, если она была выпущена из такой позиции\n",
    "x, что x_start ⩽ x ⩽ x_end. Когда стрела выпущена, она летит в пространстве бесконечное время\n",
    "(уничтожая все шарики на пути).\n",
    "Дан массив points, где points[i] = [x_start, x_end]. Напишите функцию, возвращающую минимальное количество стрел, которые нужно выпустить, чтобы уничтожить все шарики."
   ]
  },
  {
   "cell_type": "code",
   "execution_count": 16,
   "id": "vital-angel",
   "metadata": {},
   "outputs": [
    {
     "name": "stdout",
     "output_type": "stream",
     "text": [
      "[[1, 6], [2, 8], [7, 12], [10, 16]]\n",
      "2\n"
     ]
    }
   ],
   "source": [
    "class points:\n",
    "    def __init__(self, mass):\n",
    "        self.mass=mass\n",
    "        self.count=1\n",
    "    \n",
    "    def search(self):\n",
    "        if len(self.mass)==0:\n",
    "            self.count=0\n",
    "        else:\n",
    "            m=0\n",
    "            for i in range(len(self.mass)):\n",
    "                self.mass.sort() ##возрастание по 1ому числу\n",
    "            print(self.mass)\n",
    "            for i in range(len(self.mass)-1):\n",
    "                if self.mass[m][1]<self.mass[i+1][0]:##если не совпадает, то +стрела\n",
    "                    self.count=self.count+1\n",
    "                    m=i+1\n",
    "                elif self.mass[m][0]<=self.mass[i+1][0] and self.mass[m][1]>=self.mass[i+1][1]:\n",
    "                       m=i+1\n",
    "                    \n",
    "        return self.count\n",
    "            \n",
    "mass= [[10,16],[2,8],[1,6],[7,12]]         \n",
    "a=points(mass)\n",
    "print(a.search())"
   ]
  },
  {
   "cell_type": "markdown",
   "id": "psychological-graduation",
   "metadata": {},
   "source": [
    "### Задание 7.\n",
    "Даны две строки: s1 и s2 с одинаковым размером.\n",
    "Проверьте, может ли\n",
    "некоторая перестановка строки s1 “победить” некоторую перестановку\n",
    "строки s2 или наоборот.\n",
    "Строка x может “победить” строку y (обе имеют размер n), если x[i]> = y\n",
    "[i] (в алфавитном порядке) для всех i от 0 до n-1.\n"
   ]
  },
  {
   "cell_type": "code",
   "execution_count": 21,
   "id": "weighted-creativity",
   "metadata": {},
   "outputs": [
    {
     "data": {
      "text/plain": [
       "True"
      ]
     },
     "execution_count": 21,
     "metadata": {},
     "output_type": "execute_result"
    }
   ],
   "source": [
    "def zadanie7(s1, s2):\n",
    "    if len(s1)!=len(s2):\n",
    "        return False\n",
    "    st1=list(s1)\n",
    "    st2=list(s2)\n",
    "    l=len(st1)\n",
    "    st1.sort()\n",
    "    st2.sort()\n",
    "    i=0\n",
    "    while i<l and st1[i]==st2[i]:\n",
    "        i+=1\n",
    "    if i == l:\n",
    "        return True\n",
    "    if st1[i]>st2[i]:\n",
    "        for k in range(len(st1)):\n",
    "            if(st1[k]<st2[k]):\n",
    "                return False\n",
    "        return True\n",
    "    else:\n",
    "        for k in range(len(st2)):\n",
    "            if(st2[k]<st1[k]):\n",
    "                return False\n",
    "        return True                \n",
    "zadanie7('abc','xya')"
   ]
  },
  {
   "cell_type": "markdown",
   "id": "tired-mystery",
   "metadata": {},
   "source": [
    "### Задание 8.\n",
    "Дана строка s. Вернуть самую длинную полиндромную подстроку в s.\n"
   ]
  },
  {
   "cell_type": "code",
   "execution_count": 39,
   "id": "prerequisite-jones",
   "metadata": {},
   "outputs": [
    {
     "name": "stdout",
     "output_type": "stream",
     "text": [
      "bab\n",
      "bb\n"
     ]
    }
   ],
   "source": [
    "def isPalindrome(word):\n",
    "    word = word.lower()\n",
    "    word1 = ''.join(reversed(word))\n",
    "    if word1 == word:\n",
    "        return True\n",
    "    return False\n",
    "  \n",
    "    \n",
    "def longestPalindrome(s):\n",
    "    max = 1\n",
    "    ans = s[0]\n",
    "    for a in range(len(s) - 1):\n",
    "        word = s[a]\n",
    "        for b in range(a+1, len(s)):\n",
    "            word += s[b]\n",
    "            if isPalindrome(word):\n",
    "                l = len(word)\n",
    "                if l > max:\n",
    "                    max = l\n",
    "                    ans = word\n",
    "    return ans\n",
    "\n",
    "print(longestPalindrome('babad'))\n",
    "print(longestPalindrome('cbbd'))"
   ]
  },
  {
   "cell_type": "markdown",
   "id": "asian-elements",
   "metadata": {},
   "source": [
    "### Задание 9.\n",
    "Вернуть количество отдельных непустых подстрок текста, которые могут\n",
    "быть записаны как конкатенация некоторой строки с самой собой (т.е. она\n",
    "может быть записана, как a + a, где a - некоторая строка)."
   ]
  },
  {
   "cell_type": "code",
   "execution_count": 40,
   "id": "private-synthetic",
   "metadata": {},
   "outputs": [
    {
     "name": "stdout",
     "output_type": "stream",
     "text": [
      "3\n"
     ]
    }
   ],
   "source": [
    "def isConcatenationPossible(word,s):\n",
    "    for a in range(len(s) - 1):\n",
    "        guess = s[a]\n",
    "        for b in range(a+1, len(s)):\n",
    "            guess += s[b]\n",
    "            if guess == word * 2:\n",
    "                return True\n",
    "    return False\n",
    "\n",
    "\n",
    "def numOfConcatenationStrings(s):\n",
    "    count = 0\n",
    "    mem = []\n",
    "    for a in range(len(s) - 1):\n",
    "        guess = s[a]\n",
    "        if isConcatenationPossible(guess,s):\n",
    "                if guess not in mem:\n",
    "                    count += 1\n",
    "                    mem.append(guess)\n",
    "        for b in range(a+1, len(s)):\n",
    "            guess += s[b]\n",
    "            if isConcatenationPossible(guess,s):\n",
    "                if guess not in mem:\n",
    "                    count += 1\n",
    "                    mem.append(guess)\n",
    "    return count\n",
    "\n",
    "print(numOfConcatenationStrings('abcabcabc'))"
   ]
  },
  {
   "cell_type": "markdown",
   "id": "macro-championship",
   "metadata": {},
   "source": [
    "### Вывод\n",
    "В ходе курсовой работы нами было реализовано решение некоторых типов задач."
   ]
  },
  {
   "cell_type": "code",
   "execution_count": null,
   "id": "minus-negative",
   "metadata": {},
   "outputs": [],
   "source": []
  }
 ],
 "metadata": {
  "kernelspec": {
   "display_name": "Python 3",
   "language": "python",
   "name": "python3"
  },
  "language_info": {
   "codemirror_mode": {
    "name": "ipython",
    "version": 3
   },
   "file_extension": ".py",
   "mimetype": "text/x-python",
   "name": "python",
   "nbconvert_exporter": "python",
   "pygments_lexer": "ipython3",
   "version": "3.9.2"
  }
 },
 "nbformat": 4,
 "nbformat_minor": 5
}
