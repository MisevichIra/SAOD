{
 "cells": [
  {
   "cell_type": "markdown",
   "id": "emerging-reunion",
   "metadata": {},
   "source": [
    "# Лабораторная работа 4. Реализация стека/дека. \n",
    "## Выполнила студентка группы БСТ1903 Мисевич И.М.\n",
    "\n",
    "\n",
    "### Задания:\n",
    "\n"
   ]
  },
  {
   "cell_type": "markdown",
   "id": "nearby-dictionary",
   "metadata": {},
   "source": [
    "### Реализация стека"
   ]
  },
  {
   "cell_type": "code",
   "execution_count": 1,
   "id": "separated-parking",
   "metadata": {},
   "outputs": [],
   "source": [
    "class stek:\n",
    "    def __init__(self):\n",
    "        self.steks=list()\n",
    "    def __len__(self):\n",
    "        return len(self.steks)\n",
    "        \n",
    "    # добавление элемента в стек\n",
    "    def add(self, el):\n",
    "        self.steks.append(el)\n",
    "        \n",
    "    #проверка стека на пустоту\n",
    "    def testing_null(self):\n",
    "        return len(self.steks)==0\n",
    "    \n",
    "    #извлечение элемента из стека\n",
    "    def pop(self):\n",
    "        if self.testing_null():\n",
    "            return None\n",
    "        else:\n",
    "            return self.steks.pop()\n",
    "    \n",
    "    def peek(self):\n",
    "        if self.testing_null():\n",
    "            return None\n",
    "        else:\n",
    "            return self.steks[-1]"
   ]
  },
  {
   "cell_type": "markdown",
   "id": "vanilla-depression",
   "metadata": {},
   "source": [
    "### Реализация дека"
   ]
  },
  {
   "cell_type": "code",
   "execution_count": 2,
   "id": "applicable-medication",
   "metadata": {},
   "outputs": [],
   "source": [
    "class dek:\n",
    "    def __init__(self):\n",
    "        self.deks=list()\n",
    "        \n",
    "    #Нахождение минимального элемента дека\n",
    "   # def minn(self):\n",
    "        \n",
    "    #добавление в конец дека\n",
    "    def add_left(self, el):\n",
    "        self.deks.insert(0, el)\n",
    "        \n",
    "    #добавление в начало дека\n",
    "    def add_rigth(self, el):\n",
    "        self.deks.append(el)\n",
    "        \n",
    "    #проверка дека на пустоту\n",
    "    def testing_null(self):\n",
    "        return len(self.deks)==0\n",
    "    \n",
    "    #извлечение элемента из начала дека\n",
    "    def pop_rigth(self):\n",
    "        if self.testing_null():\n",
    "            return None\n",
    "        else:\n",
    "            return self.deks.pop()\n",
    "        \n",
    "    def peek_left(self):\n",
    "        if self.testing_null():\n",
    "            return None\n",
    "        else:\n",
    "            return self.deks[0]\n",
    "        \n",
    "        \n",
    "    def peek_rigth(self):\n",
    "        if self.testing_null():\n",
    "            return None\n",
    "        else:\n",
    "            return self.deks[-1]\n",
    "        \n",
    "    #извлечение элемента из конца дека\n",
    "    def pop_left(self):\n",
    "        if self.testing_null():\n",
    "            return None\n",
    "        else:\n",
    "            return self.deks.pop(0)"
   ]
  },
  {
   "cell_type": "markdown",
   "id": "conscious-generator",
   "metadata": {},
   "source": [
    "### Работа с файлами"
   ]
  },
  {
   "cell_type": "code",
   "execution_count": 3,
   "id": "dangerous-bishop",
   "metadata": {},
   "outputs": [],
   "source": [
    "import copy\n",
    "import codecs\n",
    "#чтение и запись в файл\n",
    "\n",
    "# Вывод из файла в стек\n",
    "def add_with_stek(file):\n",
    "    st=stek()\n",
    "    try:\n",
    "        f=open(file,'r')\n",
    "        t=f.readlines()\n",
    "        f.close()\n",
    "        for i in range(len(t)):\n",
    "            st.add(t[i])\n",
    "        return st\n",
    "    except:\n",
    "        print(\"Не удалось найти файл\")\n",
    "\n",
    "        \n",
    "# Вывод файла в переменную типа string\n",
    "def add_with_str(file):\n",
    "    rez=\"\"\n",
    "    try:\n",
    "        f=codecs.open(file+'.txt', encoding='utf-8')\n",
    "        t=f.readlines()\n",
    "        f.close()\n",
    "        for i in range(len(t)):\n",
    "            rez=rez+t[i]\n",
    "        return rez\n",
    "    except:\n",
    "        print(\"Не удалось найти файл\")\n",
    "        \n",
    "# Вывод из файла в дек\n",
    "def add_with_dek(file):\n",
    "    st=dek()\n",
    "    try:\n",
    "        f=open(file,'r')\n",
    "        t=f.readlines()\n",
    "        f.close()\n",
    "        for i in range(len(t)):\n",
    "            st.add_left(t[i])\n",
    "        return st\n",
    "    except:\n",
    "        print(\"Не удалось найти файл\")\n",
    "\n",
    "# Запись из дека в файл\n",
    "def add_file(file, dek):\n",
    "    try:\n",
    "        f=open(file,\"w\", encoding=\"utf-8\")\n",
    "        while not dek.testing_null():\n",
    "            f.write(dek.pop_left())\n",
    "        f.close()\n",
    "    except:\n",
    "        print(\"Ошибка\")\n",
    "        return None\n",
    "\n",
    "def add_file_stek(file, stek):\n",
    "    try:\n",
    "        f=open(file,\"w\", encoding=\"utf-8\")\n",
    "        while not stek.testing_null():\n",
    "            f.write(stek.pop())\n",
    "        f.close()\n",
    "    except:\n",
    "        print(\"Ошибка\")\n",
    "        return None\n",
    "\n",
    "# Ввод из переменной в файл\n",
    "def add_file_str(file, text):\n",
    "    try:\n",
    "        f=open(file+'.txt',\"w\", encoding=\"utf-8\")\n",
    "        f.write(text)\n",
    "        f.close()\n",
    "    except:\n",
    "        print(\"Ошибка\")\n",
    "        return None\n",
    "\n",
    "\n",
    "\n",
    "    "
   ]
  },
  {
   "cell_type": "markdown",
   "id": "lightweight-facility",
   "metadata": {},
   "source": [
    "1. Отсортировать строки файла, содержащие названия книг, в алфавитном порядке с использованием двух деков."
   ]
  },
  {
   "cell_type": "code",
   "execution_count": 4,
   "id": "grateful-proportion",
   "metadata": {},
   "outputs": [
    {
     "name": "stdout",
     "output_type": "stream",
     "text": [
      "Введите название исходного файла book\n",
      "Введите название файла в который хотите записать результат booksort\n",
      "Властелин колец\n",
      "\n",
      "Зеленая миля\n",
      "\n",
      "Коллекционер\n",
      "\n",
      "Мы\n",
      "\n",
      "Пикник на обочине\n",
      "\n",
      "Сага о ведьмаке\n"
     ]
    }
   ],
   "source": [
    "def zadanie1(file_res, file_rezult):\n",
    "    st1=add_with_dek(file_res)\n",
    "    if st1==None:\n",
    "        return\n",
    "    st2=dek()\n",
    "    while not st1.testing_null(): ## пока не пустой, цикл работает\n",
    "        el=st1.pop_left() ## нахождение и удаление символа\n",
    "        while not st2.testing_null() and st2.peek_left()<el:\n",
    "            st1.add_rigth(st2.pop_left())\n",
    "        st2.add_left(el)\n",
    "    \n",
    "    add_file(file_rezult, copy.deepcopy(st2))\n",
    "    return st2\n",
    "            \n",
    "file_one=input(\"Введите название исходного файла \")\n",
    "file_two=input(\"Введите название файла в который хотите записать результат \")\n",
    "r=zadanie1(file_one+'.txt', file_two+'.txt')\n",
    "if r is not None:\n",
    "    while not r.testing_null():\n",
    "        print(r.pop_left())"
   ]
  },
  {
   "cell_type": "markdown",
   "id": "prostate-anthony",
   "metadata": {},
   "source": [
    "2. Дек содержит последовательность символов для шифровки сообщений. Дан текстовый файл, содержащий зашифрованное сообщение. Пользуясь деком, расшифровать текст. Известно, что при шифровке каждый символ сообщения заменялся следующим за ним в деке по часовой стрелке через один. "
   ]
  },
  {
   "cell_type": "code",
   "execution_count": null,
   "id": "ranging-eclipse",
   "metadata": {},
   "outputs": [],
   "source": [
    "import random\n",
    "\n",
    "def shifr():\n",
    "    alphabet = list('абвгдеёжзийклмнопрстуфхцчшщъыьэюя')\n",
    "    random.shuffle(alphabet)\n",
    "    alphabet = ''.join(alphabet)\n",
    "    #print(alphabet)\n",
    "    keyRing = dek()\n",
    "    for letter in alphabet:\n",
    "        keyRing.add_rigth(letter)\n",
    "    return keyRing\n",
    "\n",
    "\n",
    "\n",
    "# Зашифровываем сообщение из файла\n",
    "def encode(file, keyRing):\n",
    "    text=add_with_str(file)\n",
    "    if text is None:\n",
    "        return\n",
    "    encode_text=''\n",
    "    for i in range(len(text)):\n",
    "        t=text[i]\n",
    "        #print(text)\n",
    "        #print(t) \n",
    "        if t==\" \":\n",
    "            encode_text=encode_text+\" \"\n",
    "            continue\n",
    "        while not keyRing.testing_null():\n",
    "            key=keyRing.pop_left()\n",
    "            if key==t:\n",
    "                keyRing.add_rigth(key)\n",
    "                r=keyRing.pop_left()\n",
    "                encode_text=encode_text+r\n",
    "                keyRing.add_rigth(r)\n",
    "                break\n",
    "            keyRing.add_rigth(key)\n",
    "    add_file_str('decod', encode_text)\n",
    "\n",
    "def decode(file, keyRing):\n",
    "    encode_text=add_with_str(file)\n",
    "    if encode_text is None:\n",
    "        return\n",
    "    decode_text=''\n",
    "    for i in range(len(encode_text)):\n",
    "        \n",
    "        enc=encode_text[i]\n",
    "        if enc==\" \":\n",
    "            decode_text=decode_text+\" \"\n",
    "            continue\n",
    "        while not keyRing.testing_null():\n",
    "            key=keyRing.pop_rigth()\n",
    "            if key==enc:\n",
    "                keyRing.add_left(key)\n",
    "                r=keyRing.pop_rigth()\n",
    "                decode_text=decode_text+r\n",
    "                keyRing.add_left(r)\n",
    "                break\n",
    "            keyRing.add_left(key)\n",
    "    \n",
    "    add_file_str('decod', decode_text)\n",
    "\n",
    "    \n",
    "keyR=shifr() #создаем кодировку\n",
    "\n",
    "encode('decod', keyR)\n",
    "decode('decod', keyR)\n"
   ]
  },
  {
   "cell_type": "markdown",
   "id": "adverse-charter",
   "metadata": {},
   "source": [
    "3. Даны три стержня и n дисков различного размера. Диски можно надевать на стержни, образуя из них башни. Перенести n дисков со стержня А на стержень С, сохранив их первоначальный порядок.При переносе дисков необходимо соблюдать следующие правила: - на каждом шаге со стержня на стержень переносить только один диск; - диск нельзя помещать на диск меньшего размера; - для промежуточного хранения можно использовать стержень В. Реализовать алгоритм, используя три стека вместо стержней А, В, С. Информация о дисках хранится в исходном файле. "
   ]
  },
  {
   "cell_type": "code",
   "execution_count": 16,
   "id": "terminal-administrator",
   "metadata": {},
   "outputs": [
    {
     "name": "stdout",
     "output_type": "stream",
     "text": [
      "3\n",
      "4\n",
      "1\n",
      "len 3\n"
     ]
    },
    {
     "ename": "KeyboardInterrupt",
     "evalue": "",
     "output_type": "error",
     "traceback": [
      "\u001b[1;31m---------------------------------------------------------------------------\u001b[0m",
      "\u001b[1;31mKeyboardInterrupt\u001b[0m                         Traceback (most recent call last)",
      "\u001b[1;32m<ipython-input-16-d97a78cedd53>\u001b[0m in \u001b[0;36m<module>\u001b[1;34m\u001b[0m\n\u001b[0;32m     41\u001b[0m \u001b[1;33m\u001b[0m\u001b[0m\n\u001b[0;32m     42\u001b[0m \u001b[1;33m\u001b[0m\u001b[0m\n\u001b[1;32m---> 43\u001b[1;33m \u001b[0mzadanie_3\u001b[0m\u001b[1;33m(\u001b[0m\u001b[1;34m'zadanie_3'\u001b[0m\u001b[1;33m)\u001b[0m\u001b[1;33m\u001b[0m\u001b[1;33m\u001b[0m\u001b[0m\n\u001b[0m",
      "\u001b[1;32m<ipython-input-16-d97a78cedd53>\u001b[0m in \u001b[0;36mzadanie_3\u001b[1;34m(file)\u001b[0m\n\u001b[0;32m     34\u001b[0m             \u001b[0mmove\u001b[0m\u001b[1;33m(\u001b[0m\u001b[0mA\u001b[0m\u001b[1;33m,\u001b[0m \u001b[0mB\u001b[0m\u001b[1;33m)\u001b[0m\u001b[1;33m\u001b[0m\u001b[1;33m\u001b[0m\u001b[0m\n\u001b[0;32m     35\u001b[0m             \u001b[1;32mif\u001b[0m \u001b[0mlen\u001b[0m\u001b[1;33m(\u001b[0m\u001b[0mC\u001b[0m\u001b[1;33m)\u001b[0m \u001b[1;32mis\u001b[0m \u001b[1;32mnot\u001b[0m \u001b[0mlen\u001b[0m\u001b[1;33m(\u001b[0m\u001b[0mdisk\u001b[0m\u001b[1;33m)\u001b[0m\u001b[1;33m:\u001b[0m\u001b[1;33m\u001b[0m\u001b[1;33m\u001b[0m\u001b[0m\n\u001b[1;32m---> 36\u001b[1;33m                 \u001b[0mmove\u001b[0m\u001b[1;33m(\u001b[0m\u001b[0mB\u001b[0m\u001b[1;33m,\u001b[0m \u001b[0mC\u001b[0m\u001b[1;33m)\u001b[0m\u001b[1;33m\u001b[0m\u001b[1;33m\u001b[0m\u001b[0m\n\u001b[0m\u001b[0;32m     37\u001b[0m \u001b[1;33m\u001b[0m\u001b[0m\n\u001b[0;32m     38\u001b[0m     \u001b[0mprint\u001b[0m\u001b[1;33m(\u001b[0m\u001b[0mlen\u001b[0m\u001b[1;33m(\u001b[0m\u001b[0mA\u001b[0m\u001b[1;33m)\u001b[0m\u001b[1;33m,\u001b[0m \u001b[0mlen\u001b[0m\u001b[1;33m(\u001b[0m\u001b[0mB\u001b[0m\u001b[1;33m)\u001b[0m\u001b[1;33m,\u001b[0m \u001b[0mlen\u001b[0m\u001b[1;33m(\u001b[0m\u001b[0mC\u001b[0m\u001b[1;33m)\u001b[0m\u001b[1;33m)\u001b[0m\u001b[1;33m\u001b[0m\u001b[1;33m\u001b[0m\u001b[0m\n",
      "\u001b[1;32m<ipython-input-16-d97a78cedd53>\u001b[0m in \u001b[0;36mmove\u001b[1;34m(a, b)\u001b[0m\n\u001b[0;32m      6\u001b[0m     \u001b[1;32melif\u001b[0m \u001b[0ma\u001b[0m\u001b[1;33m.\u001b[0m\u001b[0mtesting_null\u001b[0m\u001b[1;33m(\u001b[0m\u001b[1;33m)\u001b[0m \u001b[1;32mand\u001b[0m \u001b[0mb\u001b[0m\u001b[1;33m.\u001b[0m\u001b[0mtesting_null\u001b[0m\u001b[1;33m(\u001b[0m\u001b[1;33m)\u001b[0m\u001b[1;33m:\u001b[0m\u001b[1;33m\u001b[0m\u001b[1;33m\u001b[0m\u001b[0m\n\u001b[0;32m      7\u001b[0m         \u001b[1;32mreturn\u001b[0m\u001b[1;33m\u001b[0m\u001b[1;33m\u001b[0m\u001b[0m\n\u001b[1;32m----> 8\u001b[1;33m     \u001b[1;32melif\u001b[0m \u001b[0ma\u001b[0m\u001b[1;33m.\u001b[0m\u001b[0mpeek\u001b[0m\u001b[1;33m(\u001b[0m\u001b[1;33m)\u001b[0m\u001b[1;33m>\u001b[0m\u001b[0mb\u001b[0m\u001b[1;33m.\u001b[0m\u001b[0mpeek\u001b[0m\u001b[1;33m(\u001b[0m\u001b[1;33m)\u001b[0m\u001b[1;33m:\u001b[0m\u001b[1;33m\u001b[0m\u001b[1;33m\u001b[0m\u001b[0m\n\u001b[0m\u001b[0;32m      9\u001b[0m         \u001b[0ma\u001b[0m\u001b[1;33m.\u001b[0m\u001b[0madd\u001b[0m\u001b[1;33m(\u001b[0m\u001b[0mb\u001b[0m\u001b[1;33m.\u001b[0m\u001b[0mpop\u001b[0m\u001b[1;33m(\u001b[0m\u001b[1;33m)\u001b[0m\u001b[1;33m)\u001b[0m\u001b[1;33m\u001b[0m\u001b[1;33m\u001b[0m\u001b[0m\n\u001b[0;32m     10\u001b[0m     \u001b[1;32melse\u001b[0m\u001b[1;33m:\u001b[0m\u001b[1;33m\u001b[0m\u001b[1;33m\u001b[0m\u001b[0m\n",
      "\u001b[1;31mKeyboardInterrupt\u001b[0m: "
     ]
    }
   ],
   "source": [
    "\n",
    "def move(a,b):\n",
    "    if a.testing_null() and not b.testing_null():\n",
    "        a.add(b.pop())\n",
    "    elif  not a.testing_null() and b.testing_null():\n",
    "        b.add(a.pop())\n",
    "    elif a.testing_null() and b.testing_null():\n",
    "        return\n",
    "    elif a.peek()>b.peek():\n",
    "        a.add(b.pop())\n",
    "    else:\n",
    "        b.add(int(a.pop()))\n",
    "        \n",
    "def zadanie_3(file):\n",
    "    A=stek()\n",
    "    B=stek()\n",
    "    C=stek()\n",
    "    st=add_with_str(file)\n",
    "    if st is None:\n",
    "        return\n",
    "    disk=st.split(\" \")\n",
    "    for i in range(len(disk)):\n",
    "        print(disk[i])\n",
    "        A.add(int(disk[i]))\n",
    "    print(\"len\",len(disk))   \n",
    "    if len(disk)%2==0:\n",
    "        while len(C) is not len(disk):\n",
    "            move(A, B)\n",
    "            move(A, C)\n",
    "            if len(C) is not len(disk):\n",
    "                move(B, C)\n",
    "    else:\n",
    "        while len(C) is not len(disk):\n",
    "            move(A, C)\n",
    "            move(A, B)\n",
    "            if len(C) is not len(disk):\n",
    "                move(B, C)\n",
    "                \n",
    "    print(len(A), len(B), len(C))\n",
    "    for i in range(len(C)):\n",
    "            print(C.pop())\n",
    "    \n",
    "    \n",
    "zadanie_3('zadanie_3')"
   ]
  },
  {
   "cell_type": "markdown",
   "id": "informal-roads",
   "metadata": {},
   "source": [
    "4. Дан текстовый файл с программой на алгоритмическом языке. За один просмотр файла проверить баланс круглых скобок в тексте, используя стек. "
   ]
  },
  {
   "cell_type": "code",
   "execution_count": 14,
   "id": "logical-utilization",
   "metadata": {},
   "outputs": [
    {
     "name": "stdout",
     "output_type": "stream",
     "text": [
      "True\n"
     ]
    }
   ],
   "source": [
    "def zadanie_4(file):\n",
    "    s=stek()\n",
    "    st=add_with_str(file)\n",
    "    if st is None:\n",
    "        return\n",
    "    for i in st:\n",
    "        if i=='(':\n",
    "            s.add(i)\n",
    "        elif i==')':\n",
    "            if s.testing_null():\n",
    "                return False\n",
    "            s.pop()\n",
    "    return s.testing_null()\n",
    "print(zadanie_4('zadanie_4'))"
   ]
  },
  {
   "cell_type": "markdown",
   "id": "mathematical-slope",
   "metadata": {},
   "source": [
    "5. Дан текстовый файл с программой на алгоритмическом языке. За один просмотр файла проверить баланс квадратных скобок в тексте,используя дек."
   ]
  },
  {
   "cell_type": "code",
   "execution_count": 17,
   "id": "unlike-network",
   "metadata": {},
   "outputs": [
    {
     "name": "stdout",
     "output_type": "stream",
     "text": [
      "False\n"
     ]
    }
   ],
   "source": [
    "def zadanie_5(file):\n",
    "    s=dek()\n",
    "    st=add_with_str(file)\n",
    "    if st is None:\n",
    "        return\n",
    "    for i in st:\n",
    "        if i=='[':\n",
    "            s.add_rigth(i)\n",
    "        elif i==']':\n",
    "            if s.testing_null():\n",
    "                return False\n",
    "            s.pop_rigth()\n",
    "    return s.testing_null()\n",
    "print(zadanie_5('zadanie_5'))"
   ]
  },
  {
   "cell_type": "markdown",
   "id": "imperial-removal",
   "metadata": {},
   "source": [
    "6. Дан файл из символов. Используя стек, за один просмотр файла напечатать сначала все цифры, затем все буквы, и, наконец, все остальные символы, сохраняя исходный порядок в каждой группе символов. "
   ]
  },
  {
   "cell_type": "code",
   "execution_count": 18,
   "id": "stretch-projector",
   "metadata": {},
   "outputs": [
    {
     "name": "stdout",
     "output_type": "stream",
     "text": [
      "Цифры\n",
      "False\n",
      "245827358474983752562\n",
      "Буквы\n",
      "asjfkaslkxuyzryrwTyqthwetbgaeighriyhq\n",
      "другие символы\n",
      "; :)\n"
     ]
    }
   ],
   "source": [
    "def zadanie_6(file):\n",
    "    digit=stek()\n",
    "    letters=stek()\n",
    "    other=stek()\n",
    "    st=add_with_str(file)\n",
    "    if st is None:\n",
    "        return\n",
    "    i=len(st)-1\n",
    "    while i>=0:\n",
    "        if st[i].isalpha():\n",
    "            letters.add(st[i])\n",
    "        elif st[i].isdigit():\n",
    "            digit.add(st[i])\n",
    "        else:\n",
    "            other.add(st[i])\n",
    "        i=i-1\n",
    "    print(\"Цифры\")\n",
    "    d=\"\"\n",
    "    print(digit.testing_null())\n",
    "    while not digit.testing_null():\n",
    "        d=d+digit.pop()\n",
    "    print(d)\n",
    "    d=\"\"\n",
    "    print(\"Буквы\")\n",
    "    while not letters.testing_null():\n",
    "        d=d+letters.pop()\n",
    "    print(d)\n",
    "    d=\"\"\n",
    "    print(\"другие символы\")\n",
    "    while not other.testing_null():\n",
    "        d=d+other.pop()\n",
    "    print(d)\n",
    "zadanie_6('zadanie_6')"
   ]
  },
  {
   "cell_type": "markdown",
   "id": "helpful-calgary",
   "metadata": {},
   "source": [
    "7. Дан файл из целых чисел. Используя дек, за один просмотр файла напечатать сначала все отрицательные числа, затем все положительные числа, сохраняя исходный порядок в каждой группе. "
   ]
  },
  {
   "cell_type": "code",
   "execution_count": null,
   "id": "empirical-oriental",
   "metadata": {},
   "outputs": [],
   "source": [
    "def zadanie_7(file):\n",
    "    rez=dek()\n",
    "    st=add_with_str(file)\n",
    "    if st is None:\n",
    "        return\n",
    "    mas=st.split(\" \")\n",
    "    mas_=list()\n",
    "    for i in mas:\n",
    "        mas_.append(int(i))\n",
    "    for i in mas_:\n",
    "        if int(i)>=0:\n",
    "            rez.add_rigth(i)\n",
    "        else:\n",
    "            if rez.testing_null() or rez.peek_left()>=0:\n",
    "                rez.add_left(i)\n",
    "            else:\n",
    "                while rez.peek_left()<0:\n",
    "                    rez.add_rigth(rez.pop_left())\n",
    "                rez.add_left(i)\n",
    "                while rez.peek_rigth()<0:\n",
    "                    rez.add_left(rez.pop_rigth())\n",
    "                \n",
    "    while not rez.testing_null():\n",
    "        print(rez.pop_left())\n",
    "zadanie_7('zadanie_7')"
   ]
  },
  {
   "cell_type": "markdown",
   "id": "aging-masters",
   "metadata": {},
   "source": [
    "8. Дан текстовый файл. Используя стек, сформировать новый текстовый файл, содержащий строки исходного файла, записанные в обратном порядке: первая строка становится последней, вторая – предпоследнейи т.д. "
   ]
  },
  {
   "cell_type": "code",
   "execution_count": 20,
   "id": "saved-least",
   "metadata": {},
   "outputs": [],
   "source": [
    "def zadanie_8(file, file_rez):\n",
    "    steks=add_with_stek(file)\n",
    "    if steks is None:\n",
    "        return\n",
    "    #while not steks.testing_null():\n",
    "     #   print(steks.pop())\n",
    "    add_file_stek(file_rez, steks)\n",
    "\n",
    "zadanie_8('norm.txt','nenorm.txt')"
   ]
  },
  {
   "cell_type": "markdown",
   "id": "relative-progressive",
   "metadata": {},
   "source": [
    "9. Дан текстовый файл.Используястек,вычислить значение логического выражения, записанного в текстовом файле в следующей форме: < ЛВ > ::=T|F| (N<ЛВ>) | (<ЛВ>A<ЛВ>) | (<ЛВ>X<ЛВ>)| (<ЛВ>O<ЛВ>), где буквами обозначены логические константы и операции: T– True, F– False,N– Not,A– And, X– Xor,O– Or. "
   ]
  },
  {
   "cell_type": "code",
   "execution_count": 25,
   "id": "funny-driving",
   "metadata": {},
   "outputs": [
    {
     "name": "stdout",
     "output_type": "stream",
     "text": [
      "T\n"
     ]
    }
   ],
   "source": [
    "def zadanie_9(file):\n",
    "    opstek=stek()\n",
    "    vstek=stek()\n",
    "    #st=add_with_str(file)\n",
    "    st=file\n",
    "    i=0\n",
    "    while i<len(st):\n",
    "        \n",
    "        if st[i]=='(':\n",
    "            vstek.add(st[i])\n",
    "            i=i+1\n",
    "        elif st[i]==')':\n",
    "            vstek.pop()\n",
    "            i=i+1\n",
    "        elif st[i]=='N' or st[i]=='A' or st[i]=='X' or st[i]=='O':\n",
    "            vstek.add(st[i])\n",
    "            i=i+1\n",
    "            continue\n",
    "        elif st[i]=='T':\n",
    "            opstek.add(st[i])\n",
    "            i=i+1\n",
    "        elif st[i]=='F':\n",
    "            opstek.add(st[i])\n",
    "            i=i+1\n",
    "                \n",
    "        if vstek.peek()=='A':  \n",
    "            a=opstek.pop()\n",
    "            b=opstek.pop()\n",
    "            if a=='T' and b =='T':\n",
    "                opstek.add('T')\n",
    "            else:\n",
    "                opstek.add('F')\n",
    "            vstek.pop()\n",
    "                \n",
    "        elif vstek.peek()=='X':\n",
    "            a=opstek.pop()\n",
    "            b=opstek.pop()\n",
    "            if (a=='T' and b =='T') or (a=='F' and b =='F'):\n",
    "                opstek.add('F')\n",
    "            else:\n",
    "                opstek.add('T')\n",
    "            vstek.pop()\n",
    "                \n",
    "        elif vstek.peek()=='O':\n",
    "            a=opstek.pop()\n",
    "            b=opstek.pop()\n",
    "            if a=='T' or b=='T':\n",
    "                opstek.add('T')\n",
    "            else:\n",
    "                opstek.add('F')\n",
    "            vstek.pop()\n",
    "        elif vstek.peek()=='N':\n",
    "            a=opstek.pop()\n",
    "            if a=='T':\n",
    "                opstek.add('F')\n",
    "            else:\n",
    "                opstek.add('T')\n",
    "            vstek.pop()\n",
    "                    \n",
    "    print(opstek.pop())\n",
    "                    \n",
    "                    \n",
    "                    \n",
    "zadanie_9('((T)XF)X(FAF)OT')"
   ]
  },
  {
   "cell_type": "markdown",
   "id": "operational-certification",
   "metadata": {},
   "source": [
    "10. Дан текстовый файл. В текстовом файле записана формуласледующего вида: <Формула> ::= <Цифра> |M(<Формула>,<Формула>) |N(Формула>,<Формула>) < Цифра > ::= 0 | 1 | 2 | 3 | 4 | 5 | 6 | 7 | 8 |9 где буквами обозначены функции: M– определение максимума,N– определение минимума. Используястек, вычислить значение заданного выражения. "
   ]
  },
  {
   "cell_type": "code",
   "execution_count": 16,
   "id": "likely-curtis",
   "metadata": {},
   "outputs": [
    {
     "data": {
      "text/plain": [
       "9"
      ]
     },
     "execution_count": 16,
     "metadata": {},
     "output_type": "execute_result"
    }
   ],
   "source": [
    "\n",
    "def zadanie_10(st):\n",
    "    op = stek()\n",
    "    nums = stek()\n",
    "   # file=add_with_str(st)\n",
    "    file=st\n",
    "    num = ''\n",
    "    cur = 0\n",
    "    for cur in range(len(file)):\n",
    "        if file[cur] in 'MN':\n",
    "            op.add(file[cur])\n",
    "        elif file[cur].isdigit():\n",
    "            num+=file[cur]\n",
    "        elif num !='':\n",
    "            nums.add(int(num))\n",
    "            num=''\n",
    "        \n",
    "        if file[cur]==')':\n",
    "            b = nums.pop()\n",
    "            a = nums.pop()\n",
    "            if op.pop() == 'M':\n",
    "                if a>=b:\n",
    "                    nums.add(a)\n",
    "                else:\n",
    "                    nums.add(b)\n",
    "                \n",
    "            else:\n",
    "                if a>=b:\n",
    "                    nums.add(b)\n",
    "                else:\n",
    "                    nums.add(a)\n",
    "            \n",
    "    return nums.pop()\n",
    "\n",
    "zadanie_10('M(N(10,9), M(4, N(8, M(7, M(6, M(5, 4))))))')"
   ]
  },
  {
   "cell_type": "markdown",
   "id": "developing-valentine",
   "metadata": {},
   "source": [
    "11. Дан текстовый файл. Используя стек, проверить, является ли содержимое текстового файла правильной записью формулы вида: < Формула > ::= < Терм > | < Терм > + < Формула >| < Терм > - < Формула > < Терм > ::= < Имя > | (< Формула >) < Имя > ::=x|y|z"
   ]
  },
  {
   "cell_type": "code",
   "execution_count": 27,
   "id": "silver-transformation",
   "metadata": {},
   "outputs": [
    {
     "data": {
      "text/plain": [
       "True"
      ]
     },
     "execution_count": 27,
     "metadata": {},
     "output_type": "execute_result"
    }
   ],
   "source": [
    "\n",
    "def zadanie_11(file):\n",
    "    steks=stek()\n",
    "    #st=add_with_str(file)\n",
    "    st=file\n",
    "    for i in range(len(st)):\n",
    "        if st[i]=='(':\n",
    "            steks.add(st[i])\n",
    "        elif st[i]==')':\n",
    "            s=steks.pop()\n",
    "            steks.pop()\n",
    "            steks.add(s)\n",
    "        elif st[i] in '+-':\n",
    "            if steks.peek()=='name' or steks.peek()=='formula':\n",
    "                steks.add(st[i])\n",
    "            else:\n",
    "                return False\n",
    "        elif st[i] in 'xyz':\n",
    "            \n",
    "            if (not steks.testing_null()) and steks.peek() in '+-':\n",
    "                steks.pop()\n",
    "                steks.pop()\n",
    "                steks.add('formula')\n",
    "            else:\n",
    "                steks.add('name')\n",
    "        \n",
    "        if steks.peek()=='formula':\n",
    "            steks.pop()\n",
    "            if not steks.testing_null():\n",
    "                if steks.peek() in '+-':\n",
    "                    steks.pop()\n",
    "                    steks.pop()\n",
    "            steks.add('formula')\n",
    "            \n",
    "    if len(steks)==1 and (steks.peek()=='formula' or steks.peek()=='name'):\n",
    "        return True\n",
    "    else:\n",
    "        return False\n",
    "    \n",
    "zadanie_11('x')"
   ]
  },
  {
   "cell_type": "markdown",
   "id": "missing-basket",
   "metadata": {},
   "source": [
    "### Вывод\n",
    "В ходе лабораторной работы мы изучили свойства и преимущества использования стека и дека на примере решения задач."
   ]
  }
 ],
 "metadata": {
  "kernelspec": {
   "display_name": "Python 3",
   "language": "python",
   "name": "python3"
  },
  "language_info": {
   "codemirror_mode": {
    "name": "ipython",
    "version": 3
   },
   "file_extension": ".py",
   "mimetype": "text/x-python",
   "name": "python",
   "nbconvert_exporter": "python",
   "pygments_lexer": "ipython3",
   "version": "3.9.2"
  }
 },
 "nbformat": 4,
 "nbformat_minor": 5
}
